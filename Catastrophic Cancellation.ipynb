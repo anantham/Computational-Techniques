{
 "cells": [
  {
   "cell_type": "markdown",
   "metadata": {},
   "source": [
    "# Numerical Methods - Biswa Datta\n",
    "\n",
    "## 3.2.4 Catastrophic Cancellation\n",
    "\n",
    "When computers perform arithmetic operations such as addition, subtraction etc. It does'nt happen how you would've expected it would, or rather should. \n",
    "\n",
    "Computers perform fixed-precision arithmetic with a maximum of 64 bits of precision. This has real [consequences](http://www-users.math.umn.edu/~arnold/disasters/).\n",
    "\n",
    "One of the problems seen when working with limited precision is known as Catastrophic Cancellation. It is basically the phenomenon of losing significant digits when computers perform subtraction of close numbers, it starts out when information is lost due to the **rounding off** that occurs, but the consequences are only apparent when we subtract. In order to showcase this concept I'll use *decimal* - a python package which offers arbitrary-precision arithmetic.\n",
    "\n",
    "Say I want to compute $f(0.01)$ (in order for us to easily visualize it, I'll be working with $5$ significant digits) where $f$ is,\n",
    "\n",
    "$$f(x) = e^x - 1 - x$$\n",
    "\n",
    "In 5 precision arthemetic, we can't hold the whole of $e$, so we round **up** $2.71828182845904$ to $2.7183$ as $28>25$. \n",
    "\n",
    "\n",
    "$$ f_5(0.01) = (2.7183)^{0.01}-1-0.01$$\n",
    "\n",
    "Here $(2.7183)^{0.01} = 1.0100502346051552$, but again remember only 5 significant digits allowed! As $502>500$ we go with $1.0101$.\n",
    "\n",
    "At this point note that the rounding that we did didnt introduce any significant error - just $\\approx 10^{-5}$, which is expected considering that we are using only 5 significant digits.\n",
    "\n",
    "$$\\epsilon = |1.0100502346051552 - 1.0101 | = 4.976539484480291 \\times 10^{-5}$$\n",
    "$$\\eta = \\frac{4.976539484480291 \\times 10^{-5}}{1.0100502346051552} = 4.927021759888705 \\times 10^{-5}$$\n",
    "\n",
    "Now comes the \"cancellation\",\n",
    "\n",
    "$$ f_5(0.01) = 1.0101-1-0.01 = 0.0001$$"
   ]
  },
  {
   "cell_type": "code",
   "execution_count": 2,
   "metadata": {
    "collapsed": false
   },
   "outputs": [
    {
     "name": "stdout",
     "output_type": "stream",
     "text": [
      "2.7183\n",
      "i.e. e raised to x equals\n",
      "1.0101\n",
      "\n",
      "Removing 1.0 and 0.01 we have \n",
      "f(0.01) = 0.0001\n"
     ]
    }
   ],
   "source": [
    "import math\n",
    "import decimal\n",
    "from decimal import *\n",
    "from math import e\n",
    "\n",
    "precision = 5\n",
    "getcontext().prec = precision\n",
    "\n",
    "val = 0.0100\n",
    "decX = Decimal(val)\n",
    "decE = Decimal(e)+Decimal(0)\n",
    "print(decE)\n",
    "\n",
    "def fun(x):\n",
    "    print(\"i.e. e raised to x equals\")\n",
    "    print(decE**x)\n",
    "    return(decE**x-Decimal(1)-x)\n",
    "\n",
    "print(\"\\nRemoving 1.0 and 0.01 we have \\nf(0.01) = \"+'{0:.4f}'.format(fun(decX)))"
   ]
  },
  {
   "cell_type": "markdown",
   "metadata": {
    "collapsed": false
   },
   "source": [
    "So this looks OK right, this should be the answer, not an exact value but should atleast be around 5 decimal places close to the answer.\n",
    "\n",
    "But no, the actual answer is $0.00005$ (upto 5 decimal places)."
   ]
  },
  {
   "cell_type": "code",
   "execution_count": 3,
   "metadata": {
    "collapsed": false
   },
   "outputs": [
    {
     "name": "stdout",
     "output_type": "stream",
     "text": [
      "\n",
      "The real answer is\n",
      "0.0000501671\n",
      "\n",
      "which we get this by subtracting x and 1 from e^x,\n",
      "1.010050167084168\n",
      "1.000050167084168\n",
      "0.0000501671\n"
     ]
    }
   ],
   "source": [
    "# Moving on to use all 53 bits of precision offered by python float\n",
    "real = (e**val)-1-val\n",
    "print(\"\\nThe real answer is\")\n",
    "print('{0:.10f}'.format(real))\n",
    "\n",
    "print(\"\\nwhich we get this by subtracting x and 1 from e^x,\")\n",
    "print(e**val)\n",
    "print(e**val-val)\n",
    "print('{0:.10f}'.format(real))"
   ]
  },
  {
   "cell_type": "markdown",
   "metadata": {},
   "source": [
    "Notice how the relative error is around $1$ which is 100,000 times worse! We get a percentage error of $99.33\\%$\n",
    "\n",
    "$$\\epsilon = |0.0000501671 - 0.0001| = 4.98329 \\times 10^{-5}$$\n",
    "$$\\eta = \\frac{4.98329 \\times 10^{-5}}{0.0000501671} = 0.9933382635233051$$\n",
    "\n",
    "\n",
    "Now this error was introduced when we \"rounded to nearest\" and starting working with $1.0101$ instead of $1.01005$, note even if had rounded the other way ($1.0100$) we would still have around this same error.\n",
    "\n",
    "But the reason the [relative error](https://en.wikipedia.org/wiki/Approximation_error#Formal_Definition) shot up was because the \"actual\" value became close to zero when we subtracted the close numbers. And **the closer you are to zero the more important these significant digits that we lost become.**\n",
    "\n",
    "Now the wikipedia article on [Catastrophic Cancellation](https://en.wikipedia.org/wiki/Loss_of_significance) should make sense, note how the absolute error is still around $10^{-5}$, not much change there. It is the relative error which increased \"substantially\" and the key point is that relative error for any value near zero will be large.\n",
    "\n",
    "A solution to this problem is to use alternative ways to compute what we want, hopefully in a way that doesnt involve catastrophic cancellation.\n",
    "\n",
    "In our case we know,\n",
    "\n",
    "$$e^x = 1+x+\\frac{x^2}{2!} + \\frac{x^3}{3!} + \\cdots$$\n",
    "\n",
    "So we can find $f(x)$ by adding positive numbers, avoiding subtraction (works only when x is positive)\n",
    "\n",
    "$$f(x) = e^x - 1 - x = \\frac{x^2}{2!} + \\frac{x^3}{3!} + \\cdots$$\n"
   ]
  },
  {
   "cell_type": "code",
   "execution_count": 4,
   "metadata": {
    "collapsed": false
   },
   "outputs": [
    {
     "name": "stdout",
     "output_type": "stream",
     "text": [
      "\n",
      "\n",
      "The sum of first 1 terms are,\n",
      "0.00005000\n",
      "\n",
      "\n",
      "The sum of first 2 terms are,\n",
      "0.000050167\n",
      "\n",
      "\n",
      "The sum of first 3 terms are,\n",
      "0.000050167\n"
     ]
    }
   ],
   "source": [
    "# Alternatively using the power series\n",
    "temp = Decimal(0.00000)\n",
    "\n",
    "k = 3\n",
    "for i in range(2,k+2):\n",
    "    j = Decimal(i)\n",
    "    temp = temp + decX**i/math.factorial(j)\n",
    "    # A single term from that series gives the right result\n",
    "    print(\"\\n\\nThe sum of first \"+str(i-1)+\" terms are,\")\n",
    "    print(temp)\n"
   ]
  },
  {
   "cell_type": "markdown",
   "metadata": {},
   "source": [
    "### A different example\n",
    "\n",
    "Finally I'd like to mention a popular example - finding the roots to a quadratic equation. \n",
    "\n",
    "$$ax^2+bx+c = 0$$\n",
    "\n",
    "When $\\sqrt{b^2-4ac} \\approx b$, then one root is likely to be wrong if we compute via the formula.\n",
    "\n",
    "$$\\frac{-b+\\sqrt{b^2-4ac}}{2a}$$\n",
    "\n",
    "and its not like this is unlikely, a small $c$ or $a$ will cause $4ac \\approx 0$.\n",
    "\n",
    "In which case the smart way is to find one root by subtraction,\n",
    "\n",
    "\n",
    "$$\\frac{-b-\\sqrt{b^2-4ac}}{2a}$$\n",
    "\n",
    "And the second root should be,\n",
    "\n",
    "$$= \\frac{\\frac{c}{a}}{\\frac{-b-\\sqrt{b^2-4ac}}{2a}}$$\n",
    "\n",
    "In the example below we see $99.975\\%$ percentage error!"
   ]
  },
  {
   "cell_type": "code",
   "execution_count": 5,
   "metadata": {
    "collapsed": false
   },
   "outputs": [
    {
     "name": "stdout",
     "output_type": "stream",
     "text": [
      "Root one is -0.0005\n",
      "Root two is -1.9995\n",
      "But the actual root one is -0.00050013\n",
      "The error is because of how sqrt(b^2-4ac) approx b, i.e. = 1.9990\n",
      "The error in percentage is 99.975\n"
     ]
    }
   ],
   "source": [
    "a = Decimal(1)\n",
    "b = Decimal(2)\n",
    "c = Decimal(10**-3)\n",
    "\n",
    "\n",
    "estiRoot1 = (-b+(b**2-4*a*c).sqrt())/(2*a)\n",
    "print(\"Root one is \"+str(estiRoot1))\n",
    "\n",
    "estiRoot2 = (-b-(b**2-4*a*c).sqrt())/(2*a)\n",
    "print(\"Root two is \"+str(estiRoot2))\n",
    "\n",
    "print(\"But the actual root one is \"+'{0:.8f}'.format((c/a)/estiRoot2))\n",
    "\n",
    "print(\"The error is because of how sqrt(b^2-4ac) approx b, i.e. = \"+str((b**2-4*a*c).sqrt()))\n",
    "\n",
    "error = abs(estiRoot2 - estiRoot1)/abs(estiRoot2)\n",
    "print(\"The error in percentage is \"+str(100*error))"
   ]
  },
  {
   "cell_type": "code",
   "execution_count": null,
   "metadata": {
    "collapsed": true
   },
   "outputs": [],
   "source": []
  }
 ],
 "metadata": {
  "kernelspec": {
   "display_name": "Python 3",
   "language": "python",
   "name": "python3"
  },
  "language_info": {
   "codemirror_mode": {
    "name": "ipython",
    "version": 3
   },
   "file_extension": ".py",
   "mimetype": "text/x-python",
   "name": "python",
   "nbconvert_exporter": "python",
   "pygments_lexer": "ipython3",
   "version": "3.6.0"
  }
 },
 "nbformat": 4,
 "nbformat_minor": 2
}
